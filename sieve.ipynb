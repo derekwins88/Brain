{
  "cells": [
    {
      "cell_type": "markdown",
      "metadata": {},
      "source": [
        "# Day-2 GPU entropy sieve (Colab)\n",
        "\n",
        "This notebook runs the repository's `sieve.py`, auto-selecting GPU via CuPy when available and falling back to NumPy on CPU.\n",
        "\n",
        "**Outputs**:\n",
        "- CSV summary (per trace)\n",
        "- JSON meta summary (np-wall hit %, thresholds, run params)\n"
      ]
    },
    {
      "cell_type": "code",
      "metadata": {"id": "setup_clone"},
      "execution_count": null,
      "outputs": [],
      "source": [
        "# Clone repo into /content if needed (Colab) and cd into it\n",
        "import os, sys, subprocess, pathlib\n",
        "COLAB = bool(os.environ.get('COLAB_GPU') or 'google.colab' in sys.modules)\n",
        "repo_url = 'https://github.com/derekwins88/Brain.git'\n",
        "work = pathlib.Path('/content/Brain' if COLAB else pathlib.Path.cwd())\n",
        "if COLAB:\n",
        "    if not work.exists():\n",
        "        subprocess.run(['git', 'clone', repo_url, str(work)], check=True)\n",
        "    os.chdir(work)\n",
        "print('cwd =', os.getcwd())\n",
        "!git rev-parse --short HEAD || true"
      ]
    },
    {
      "cell_type": "code",
      "metadata": {"id": "deps"},
      "execution_count": null,
      "outputs": [],
      "source": [
        "# Install Python deps (quiet). Try CuPy first (GPU), fall back to NumPy.\n",
        "import sys, subprocess\n",
        "def pip(*args):\n",
        "    return subprocess.run([sys.executable, '-m', 'pip', 'install', *args], check=False)\n",
        "print('Installing NumPy …')\n",
        "pip('-q', 'numpy>=1.26')\n",
        "print('Trying CuPy (CUDA 12.x) …')\n",
        "pip('-q', 'cupy-cuda12x>=13.0')\n",
        "print('Deps done.')"
      ]
    },
    {
      "cell_type": "code",
      "metadata": {"id": "params"},
      "execution_count": null,
      "outputs": [],
      "source": [
        "# Configure run parameters via environment variables (edit as needed)\n",
        "import os\n",
        "os.environ.setdefault('N_TRACES', '2000')       # quick sample for Colab demo\n",
        "os.environ.setdefault('TRACE_LEN', '48')\n",
        "os.environ.setdefault('CSV_PATH', 'data/entropy_sieve_ci.csv')\n",
        "os.environ.setdefault('META_PATH', 'data/entropy_sieve_ci.json')\n",
        "os.environ.setdefault('NP_THRESHOLD', '0.09')\n",
        "os.environ.setdefault('IRREV_EPS', '0.045')\n",
        "print({k: os.environ[k] for k in ['N_TRACES','TRACE_LEN','CSV_PATH','META_PATH','NP_THRESHOLD','IRREV_EPS']})"
      ]
    },
    {
      "cell_type": "code",
      "metadata": {"id": "run"},
      "execution_count": null,
      "outputs": [],
      "source": [
        "# Run the sieve\n",
        "import sys, subprocess\n",
        "ret = subprocess.run([sys.executable, 'sieve.py'])\n",
        "print('sieve.py exit code:', ret.returncode)"
      ]
    },
    {
      "cell_type": "code",
      "metadata": {"id": "peek_outputs"},
      "execution_count": null,
      "outputs": [],
      "source": [
        "# Preview outputs\n",
        "import os, json, pandas as pd\n",
        "csv_path = os.environ['CSV_PATH']\n",
        "meta_path = os.environ['META_PATH']\n",
        "print('\\nCSV head:')\n",
        "try:\n",
        "    import pandas as pd\n",
        "    display(pd.read_csv(csv_path).head())\n",
        "except Exception as e:\n",
        "    print('CSV preview skipped:', e)\n",
        "print('\\nMeta JSON:')\n",
        "try:\n",
        "    print(json.dumps(json.load(open(meta_path)), indent=2))\n",
        "except Exception as e:\n",
        "    print('Meta preview skipped:', e)"
      ]
    },
    {
      "cell_type": "markdown",
      "metadata": {},
      "source": [
        "### Save artifacts\n",
        "- Files are written into the repo's `data/` folder.\n",
        "- In Colab, use *File → Download* to pull them locally, or push them back to GitHub from a local machine."
      ]
    }
  ],
  "metadata": {
    "jupytext": {
      "formats": "ipynb,py:percent",
      "text_representation": {
        "extension": ".py",
        "format_name": "percent",
        "format_version": "1.3"
      }
    },
    "kernelspec": {"display_name": "Python 3", "language": "python", "name": "python3"},
    "language_info": {"name": "python", "version": "3"},
    "colab": {"provenance": []}
  },
  "nbformat": 4,
  "nbformat_minor": 5
}
